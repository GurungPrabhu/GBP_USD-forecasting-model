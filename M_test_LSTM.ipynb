{
 "cells": [
  {
   "cell_type": "code",
   "execution_count": 102,
   "metadata": {},
   "outputs": [],
   "source": [
    "import pandas as pd\n",
    "import numpy as np\n",
    "import matplotlib.pyplot as plt\n",
    "from sklearn.preprocessing import MinMaxScaler\n",
    "from keras.models import Sequential\n",
    "from keras.layers import LSTM, Dense, Dropout\n",
    "from sklearn.metrics import mean_absolute_error, mean_squared_error, r2_score"
   ]
  },
  {
   "cell_type": "code",
   "execution_count": 103,
   "metadata": {},
   "outputs": [],
   "source": [
    "df = pd.read_csv('GBPUSD_open_5year.csv')\n",
    "df[\"Date\"] = pd.to_datetime(df[\"Date\"], format=\"%m/%d/%Y\")\n",
    "df.sort_values(by=\"Date\", inplace=True)\n",
    "df.set_index('Date', inplace=True)\n"
   ]
  },
  {
   "cell_type": "code",
   "execution_count": 104,
   "metadata": {},
   "outputs": [],
   "source": [
    "#train_ratio = 0.7\n",
    "#val_ratio = 0.15\n",
    "#test_ratio = 0.15\n",
    "\n",
    "#train_size = int(len(df) * train_ratio)\n",
    "#val_size = int(len(df) * val_ratio)\n",
    "#test_size = len(df) - train_size - val_size\n",
    "\n",
    "#train_data = df[:train_size]\n",
    "#val_data = df[train_size:train_size + val_size]\n",
    "#test_data = df[train_size + val_size:]\n",
    "\n",
    "#print(f\"Training Data: {train_data.shape}\")\n",
    "#print(f\"Validation Data: {val_data.shape}\")\n",
    "#print(f\"Test Data: {test_data.shape}\")"
   ]
  },
  {
   "cell_type": "code",
   "execution_count": 105,
   "metadata": {},
   "outputs": [
    {
     "name": "stdout",
     "output_type": "stream",
     "text": [
      "Training Data: 935 samples\n",
      "Validation Data: 132 samples\n",
      "Test Data: 133 samples\n"
     ]
    }
   ],
   "source": [
    "train_data = df.iloc[:935]\n",
    "remaining_data = df.iloc[935:]\n",
    "validation_size = len(remaining_data) // 2\n",
    "\n",
    "val_data = remaining_data.iloc[:validation_size]\n",
    "test_data = remaining_data.iloc[validation_size:]\n",
    "\n",
    "# Print the number of samples in each set\n",
    "print(f\"Training Data: {len(train_data)} samples\")\n",
    "print(f\"Validation Data: {len(val_data)} samples\")\n",
    "print(f\"Test Data: {len(test_data)} samples\")"
   ]
  },
  {
   "cell_type": "code",
   "execution_count": 106,
   "metadata": {},
   "outputs": [],
   "source": [
    "scaler = MinMaxScaler(feature_range=(0, 1))\n",
    "#scaler.fit(train_data[['Open', 'Time']])\n",
    "scaler.fit(train_data[['Open']])\n",
    "\n",
    "#X_train_scaled = scaler.transform(train_data[['Open', 'Time']])\n",
    "#X_val_scaled = scaler.transform(val_data[['Open', 'Time']])\n",
    "#X_test_scaled = scaler.transform(test_data[['Open', 'Time']])\n",
    "\n",
    "X_train_scaled = scaler.transform(train_data[['Open']])\n",
    "X_val_scaled = scaler.transform(val_data[['Open']])\n",
    "X_test_scaled = scaler.transform(test_data[['Open']])\n",
    "\n"
   ]
  },
  {
   "cell_type": "code",
   "execution_count": 107,
   "metadata": {},
   "outputs": [],
   "source": [
    "y_train = train_data['Open'].values\n",
    "y_val = val_data['Open'].values\n",
    "y_test = test_data['Open'].values"
   ]
  },
  {
   "cell_type": "code",
   "execution_count": 108,
   "metadata": {},
   "outputs": [],
   "source": [
    "def time_sequence_generator(X, y, time_interval):\n",
    "    X_range, y_range = [], []\n",
    "    for i in range(len(X) - time_interval): \n",
    "        X_range.append(X[i:i+time_interval])\n",
    "        y_range.append(y[i+time_interval])\n",
    "    return np.array(X_range), np.array(y_range)"
   ]
  },
  {
   "cell_type": "code",
   "execution_count": 109,
   "metadata": {},
   "outputs": [
    {
     "name": "stdout",
     "output_type": "stream",
     "text": [
      "Shape of X_train: (875, 60, 1)\n",
      "Shape of X_val: (72, 60, 1)\n",
      "Shape of X_test: (73, 60, 1)\n"
     ]
    }
   ],
   "source": [
    "time_interval= 60\n",
    "\n",
    "X_train_seq, y_train_seq = time_sequence_generator(X_train_scaled, y_train, time_interval)\n",
    "X_val_seq, y_val_seq = time_sequence_generator(X_val_scaled, y_val, time_interval)\n",
    "X_test_seq, y_test_seq = time_sequence_generator(X_test_scaled, y_test, time_interval)\n",
    "\n",
    "print(f\"Shape of X_train: {X_train_seq.shape}\")\n",
    "print(f\"Shape of X_val: {X_val_seq.shape}\")\n",
    "print(f\"Shape of X_test: {X_test_seq.shape}\")"
   ]
  },
  {
   "cell_type": "code",
   "execution_count": 110,
   "metadata": {},
   "outputs": [],
   "source": [
    "# Build LSTM Model\n",
    "#lstm_model = Sequential()\n",
    "#lstm_model.add(LSTM(units=64, return_sequences=True, input_shape=(X_train_seq.shape[1], X_train_seq.shape[2])))\n",
    "#lstm_model.add(LSTM(units=32))\n",
    "#lstm_model.add(Dense(units=16, activation='relu'))\n",
    "#lstm_model.add(Dense(units=8, activation='relu'))\n",
    "#lstm_model.add(Dense(units=1))  # Output layer\n",
    "\n",
    "# Compile model\n",
    "#lstm_model.compile(optimizer='adam', loss='mean_squared_error', metrics=['mae', 'mse'])\n",
    "\n",
    "# Train model\n",
    "#history = lstm_model.fit(X_train_seq, y_train_seq, epochs=100, batch_size=32, validation_data=(X_val_seq, y_val_seq))\n",
    "\n"
   ]
  },
  {
   "cell_type": "code",
   "execution_count": null,
   "metadata": {},
   "outputs": [
    {
     "name": "stdout",
     "output_type": "stream",
     "text": [
      "Epoch 1/100\n"
     ]
    },
    {
     "name": "stderr",
     "output_type": "stream",
     "text": [
      "c:\\Users\\Asus\\AppData\\Local\\Programs\\Python\\Python39\\lib\\site-packages\\keras\\src\\layers\\rnn\\rnn.py:200: UserWarning: Do not pass an `input_shape`/`input_dim` argument to a layer. When using Sequential models, prefer using an `Input(shape)` object as the first layer in the model instead.\n",
      "  super().__init__(**kwargs)\n"
     ]
    },
    {
     "name": "stdout",
     "output_type": "stream",
     "text": [
      "\u001b[1m28/28\u001b[0m \u001b[32m━━━━━━━━━━━━━━━━━━━━\u001b[0m\u001b[37m\u001b[0m \u001b[1m5s\u001b[0m 52ms/step - loss: 1.6529 - mae: 1.2795 - mse: 1.6529 - val_loss: 0.7970 - val_mae: 0.8927 - val_mse: 0.7970\n",
      "Epoch 2/100\n",
      "\u001b[1m28/28\u001b[0m \u001b[32m━━━━━━━━━━━━━━━━━━━━\u001b[0m\u001b[37m\u001b[0m \u001b[1m1s\u001b[0m 47ms/step - loss: 0.6261 - mae: 0.7675 - mse: 0.6261 - val_loss: 0.0619 - val_mae: 0.2486 - val_mse: 0.0619\n",
      "Epoch 3/100\n",
      "\u001b[1m28/28\u001b[0m \u001b[32m━━━━━━━━━━━━━━━━━━━━\u001b[0m\u001b[37m\u001b[0m \u001b[1m1s\u001b[0m 48ms/step - loss: 0.0580 - mae: 0.1872 - mse: 0.0580 - val_loss: 0.0035 - val_mae: 0.0585 - val_mse: 0.0035\n",
      "Epoch 4/100\n",
      "\u001b[1m28/28\u001b[0m \u001b[32m━━━━━━━━━━━━━━━━━━━━\u001b[0m\u001b[37m\u001b[0m \u001b[1m1s\u001b[0m 48ms/step - loss: 0.0328 - mae: 0.1461 - mse: 0.0328 - val_loss: 9.8154e-04 - val_mae: 0.0298 - val_mse: 9.8154e-04\n",
      "Epoch 5/100\n",
      "\u001b[1m28/28\u001b[0m \u001b[32m━━━━━━━━━━━━━━━━━━━━\u001b[0m\u001b[37m\u001b[0m \u001b[1m1s\u001b[0m 49ms/step - loss: 0.0305 - mae: 0.1371 - mse: 0.0305 - val_loss: 2.3011e-04 - val_mae: 0.0121 - val_mse: 2.3011e-04\n",
      "Epoch 6/100\n",
      "\u001b[1m28/28\u001b[0m \u001b[32m━━━━━━━━━━━━━━━━━━━━\u001b[0m\u001b[37m\u001b[0m \u001b[1m1s\u001b[0m 49ms/step - loss: 0.0290 - mae: 0.1367 - mse: 0.0290 - val_loss: 0.0023 - val_mae: 0.0465 - val_mse: 0.0023\n",
      "Epoch 7/100\n",
      "\u001b[1m28/28\u001b[0m \u001b[32m━━━━━━━━━━━━━━━━━━━━\u001b[0m\u001b[37m\u001b[0m \u001b[1m1s\u001b[0m 48ms/step - loss: 0.0271 - mae: 0.1320 - mse: 0.0271 - val_loss: 6.4006e-04 - val_mae: 0.0234 - val_mse: 6.4006e-04\n",
      "Epoch 8/100\n",
      "\u001b[1m28/28\u001b[0m \u001b[32m━━━━━━━━━━━━━━━━━━━━\u001b[0m\u001b[37m\u001b[0m \u001b[1m1s\u001b[0m 49ms/step - loss: 0.0277 - mae: 0.1318 - mse: 0.0277 - val_loss: 0.0025 - val_mae: 0.0486 - val_mse: 0.0025\n",
      "Epoch 9/100\n",
      "\u001b[1m28/28\u001b[0m \u001b[32m━━━━━━━━━━━━━━━━━━━━\u001b[0m\u001b[37m\u001b[0m \u001b[1m1s\u001b[0m 51ms/step - loss: 0.0259 - mae: 0.1260 - mse: 0.0259 - val_loss: 0.0022 - val_mae: 0.0462 - val_mse: 0.0022\n",
      "Epoch 10/100\n",
      "\u001b[1m28/28\u001b[0m \u001b[32m━━━━━━━━━━━━━━━━━━━━\u001b[0m\u001b[37m\u001b[0m \u001b[1m1s\u001b[0m 50ms/step - loss: 0.0240 - mae: 0.1240 - mse: 0.0240 - val_loss: 0.0030 - val_mae: 0.0541 - val_mse: 0.0030\n",
      "Epoch 11/100\n",
      "\u001b[1m28/28\u001b[0m \u001b[32m━━━━━━━━━━━━━━━━━━━━\u001b[0m\u001b[37m\u001b[0m \u001b[1m1s\u001b[0m 50ms/step - loss: 0.0240 - mae: 0.1206 - mse: 0.0240 - val_loss: 0.0033 - val_mae: 0.0563 - val_mse: 0.0033\n",
      "Epoch 12/100\n",
      "\u001b[1m28/28\u001b[0m \u001b[32m━━━━━━━━━━━━━━━━━━━━\u001b[0m\u001b[37m\u001b[0m \u001b[1m1s\u001b[0m 49ms/step - loss: 0.0239 - mae: 0.1232 - mse: 0.0239 - val_loss: 0.0015 - val_mae: 0.0381 - val_mse: 0.0015\n",
      "Epoch 13/100\n",
      "\u001b[1m28/28\u001b[0m \u001b[32m━━━━━━━━━━━━━━━━━━━━\u001b[0m\u001b[37m\u001b[0m \u001b[1m1s\u001b[0m 50ms/step - loss: 0.0256 - mae: 0.1282 - mse: 0.0256 - val_loss: 0.0035 - val_mae: 0.0588 - val_mse: 0.0035\n",
      "Epoch 14/100\n",
      "\u001b[1m28/28\u001b[0m \u001b[32m━━━━━━━━━━━━━━━━━━━━\u001b[0m\u001b[37m\u001b[0m \u001b[1m2s\u001b[0m 54ms/step - loss: 0.0242 - mae: 0.1193 - mse: 0.0242 - val_loss: 0.0042 - val_mae: 0.0639 - val_mse: 0.0042\n",
      "Epoch 15/100\n",
      "\u001b[1m28/28\u001b[0m \u001b[32m━━━━━━━━━━━━━━━━━━━━\u001b[0m\u001b[37m\u001b[0m \u001b[1m2s\u001b[0m 54ms/step - loss: 0.0223 - mae: 0.1185 - mse: 0.0223 - val_loss: 0.0024 - val_mae: 0.0479 - val_mse: 0.0024\n",
      "Epoch 16/100\n",
      "\u001b[1m28/28\u001b[0m \u001b[32m━━━━━━━━━━━━━━━━━━━━\u001b[0m\u001b[37m\u001b[0m \u001b[1m2s\u001b[0m 53ms/step - loss: 0.0222 - mae: 0.1182 - mse: 0.0222 - val_loss: 0.0053 - val_mae: 0.0722 - val_mse: 0.0053\n",
      "Epoch 17/100\n",
      "\u001b[1m28/28\u001b[0m \u001b[32m━━━━━━━━━━━━━━━━━━━━\u001b[0m\u001b[37m\u001b[0m \u001b[1m2s\u001b[0m 56ms/step - loss: 0.0227 - mae: 0.1185 - mse: 0.0227 - val_loss: 0.0022 - val_mae: 0.0457 - val_mse: 0.0022\n",
      "Epoch 18/100\n",
      "\u001b[1m28/28\u001b[0m \u001b[32m━━━━━━━━━━━━━━━━━━━━\u001b[0m\u001b[37m\u001b[0m \u001b[1m2s\u001b[0m 53ms/step - loss: 0.0234 - mae: 0.1214 - mse: 0.0234 - val_loss: 0.0062 - val_mae: 0.0782 - val_mse: 0.0062\n",
      "Epoch 19/100\n",
      "\u001b[1m28/28\u001b[0m \u001b[32m━━━━━━━━━━━━━━━━━━━━\u001b[0m\u001b[37m\u001b[0m \u001b[1m1s\u001b[0m 51ms/step - loss: 0.0228 - mae: 0.1211 - mse: 0.0228 - val_loss: 0.0059 - val_mae: 0.0765 - val_mse: 0.0059\n",
      "Epoch 20/100\n",
      "\u001b[1m28/28\u001b[0m \u001b[32m━━━━━━━━━━━━━━━━━━━━\u001b[0m\u001b[37m\u001b[0m \u001b[1m1s\u001b[0m 47ms/step - loss: 0.0293 - mae: 0.1333 - mse: 0.0293 - val_loss: 0.0059 - val_mae: 0.0762 - val_mse: 0.0059\n",
      "Epoch 21/100\n",
      "\u001b[1m28/28\u001b[0m \u001b[32m━━━━━━━━━━━━━━━━━━━━\u001b[0m\u001b[37m\u001b[0m \u001b[1m1s\u001b[0m 50ms/step - loss: 0.0205 - mae: 0.1113 - mse: 0.0205 - val_loss: 0.0100 - val_mae: 0.0997 - val_mse: 0.0100\n",
      "Epoch 22/100\n",
      "\u001b[1m28/28\u001b[0m \u001b[32m━━━━━━━━━━━━━━━━━━━━\u001b[0m\u001b[37m\u001b[0m \u001b[1m1s\u001b[0m 46ms/step - loss: 0.0225 - mae: 0.1187 - mse: 0.0225 - val_loss: 0.0053 - val_mae: 0.0724 - val_mse: 0.0053\n",
      "Epoch 23/100\n",
      "\u001b[1m28/28\u001b[0m \u001b[32m━━━━━━━━━━━━━━━━━━━━\u001b[0m\u001b[37m\u001b[0m \u001b[1m1s\u001b[0m 48ms/step - loss: 0.0229 - mae: 0.1202 - mse: 0.0229 - val_loss: 0.0084 - val_mae: 0.0913 - val_mse: 0.0084\n",
      "Epoch 24/100\n",
      "\u001b[1m28/28\u001b[0m \u001b[32m━━━━━━━━━━━━━━━━━━━━\u001b[0m\u001b[37m\u001b[0m \u001b[1m1s\u001b[0m 48ms/step - loss: 0.0194 - mae: 0.1104 - mse: 0.0194 - val_loss: 0.0117 - val_mae: 0.1079 - val_mse: 0.0117\n",
      "Epoch 25/100\n",
      "\u001b[1m28/28\u001b[0m \u001b[32m━━━━━━━━━━━━━━━━━━━━\u001b[0m\u001b[37m\u001b[0m \u001b[1m1s\u001b[0m 45ms/step - loss: 0.0218 - mae: 0.1168 - mse: 0.0218 - val_loss: 0.0097 - val_mae: 0.0982 - val_mse: 0.0097\n",
      "Epoch 26/100\n",
      "\u001b[1m28/28\u001b[0m \u001b[32m━━━━━━━━━━━━━━━━━━━━\u001b[0m\u001b[37m\u001b[0m \u001b[1m1s\u001b[0m 51ms/step - loss: 0.0200 - mae: 0.1138 - mse: 0.0200 - val_loss: 0.0077 - val_mae: 0.0874 - val_mse: 0.0077\n",
      "Epoch 27/100\n",
      "\u001b[1m28/28\u001b[0m \u001b[32m━━━━━━━━━━━━━━━━━━━━\u001b[0m\u001b[37m\u001b[0m \u001b[1m2s\u001b[0m 54ms/step - loss: 0.0192 - mae: 0.1101 - mse: 0.0192 - val_loss: 0.0084 - val_mae: 0.0913 - val_mse: 0.0084\n",
      "Epoch 28/100\n",
      "\u001b[1m28/28\u001b[0m \u001b[32m━━━━━━━━━━━━━━━━━━━━\u001b[0m\u001b[37m\u001b[0m \u001b[1m1s\u001b[0m 49ms/step - loss: 0.0204 - mae: 0.1137 - mse: 0.0204 - val_loss: 0.0115 - val_mae: 0.1070 - val_mse: 0.0115\n",
      "Epoch 29/100\n",
      "\u001b[1m28/28\u001b[0m \u001b[32m━━━━━━━━━━━━━━━━━━━━\u001b[0m\u001b[37m\u001b[0m \u001b[1m1s\u001b[0m 48ms/step - loss: 0.0194 - mae: 0.1094 - mse: 0.0194 - val_loss: 0.0104 - val_mae: 0.1014 - val_mse: 0.0104\n",
      "Epoch 30/100\n",
      "\u001b[1m28/28\u001b[0m \u001b[32m━━━━━━━━━━━━━━━━━━━━\u001b[0m\u001b[37m\u001b[0m \u001b[1m1s\u001b[0m 47ms/step - loss: 0.0196 - mae: 0.1072 - mse: 0.0196 - val_loss: 0.0114 - val_mae: 0.1065 - val_mse: 0.0114\n",
      "Epoch 31/100\n",
      "\u001b[1m28/28\u001b[0m \u001b[32m━━━━━━━━━━━━━━━━━━━━\u001b[0m\u001b[37m\u001b[0m \u001b[1m1s\u001b[0m 50ms/step - loss: 0.0183 - mae: 0.1072 - mse: 0.0183 - val_loss: 0.0153 - val_mae: 0.1234 - val_mse: 0.0153\n",
      "Epoch 32/100\n",
      "\u001b[1m28/28\u001b[0m \u001b[32m━━━━━━━━━━━━━━━━━━━━\u001b[0m\u001b[37m\u001b[0m \u001b[1m2s\u001b[0m 55ms/step - loss: 0.0182 - mae: 0.1072 - mse: 0.0182 - val_loss: 0.0124 - val_mae: 0.1109 - val_mse: 0.0124\n",
      "Epoch 33/100\n",
      "\u001b[1m28/28\u001b[0m \u001b[32m━━━━━━━━━━━━━━━━━━━━\u001b[0m\u001b[37m\u001b[0m \u001b[1m2s\u001b[0m 53ms/step - loss: 0.0174 - mae: 0.1029 - mse: 0.0174 - val_loss: 0.0149 - val_mae: 0.1219 - val_mse: 0.0149\n",
      "Epoch 34/100\n",
      "\u001b[1m28/28\u001b[0m \u001b[32m━━━━━━━━━━━━━━━━━━━━\u001b[0m\u001b[37m\u001b[0m \u001b[1m2s\u001b[0m 59ms/step - loss: 0.0201 - mae: 0.1121 - mse: 0.0201 - val_loss: 0.0144 - val_mae: 0.1195 - val_mse: 0.0144\n",
      "Epoch 35/100\n",
      "\u001b[1m28/28\u001b[0m \u001b[32m━━━━━━━━━━━━━━━━━━━━\u001b[0m\u001b[37m\u001b[0m \u001b[1m1s\u001b[0m 52ms/step - loss: 0.0177 - mae: 0.1066 - mse: 0.0177 - val_loss: 0.0137 - val_mae: 0.1165 - val_mse: 0.0137\n",
      "Epoch 36/100\n",
      "\u001b[1m28/28\u001b[0m \u001b[32m━━━━━━━━━━━━━━━━━━━━\u001b[0m\u001b[37m\u001b[0m \u001b[1m2s\u001b[0m 56ms/step - loss: 0.0201 - mae: 0.1130 - mse: 0.0201 - val_loss: 0.0136 - val_mae: 0.1164 - val_mse: 0.0136\n",
      "Epoch 37/100\n",
      "\u001b[1m28/28\u001b[0m \u001b[32m━━━━━━━━━━━━━━━━━━━━\u001b[0m\u001b[37m\u001b[0m \u001b[1m1s\u001b[0m 52ms/step - loss: 0.0197 - mae: 0.1112 - mse: 0.0197 - val_loss: 0.0133 - val_mae: 0.1151 - val_mse: 0.0133\n",
      "Epoch 38/100\n",
      "\u001b[1m28/28\u001b[0m \u001b[32m━━━━━━━━━━━━━━━━━━━━\u001b[0m\u001b[37m\u001b[0m \u001b[1m2s\u001b[0m 53ms/step - loss: 0.0170 - mae: 0.1023 - mse: 0.0170 - val_loss: 0.0102 - val_mae: 0.1005 - val_mse: 0.0102\n",
      "Epoch 39/100\n",
      "\u001b[1m28/28\u001b[0m \u001b[32m━━━━━━━━━━━━━━━━━━━━\u001b[0m\u001b[37m\u001b[0m \u001b[1m1s\u001b[0m 50ms/step - loss: 0.0159 - mae: 0.0993 - mse: 0.0159 - val_loss: 0.0129 - val_mae: 0.1132 - val_mse: 0.0129\n",
      "Epoch 40/100\n",
      "\u001b[1m28/28\u001b[0m \u001b[32m━━━━━━━━━━━━━━━━━━━━\u001b[0m\u001b[37m\u001b[0m \u001b[1m1s\u001b[0m 51ms/step - loss: 0.0177 - mae: 0.1039 - mse: 0.0177 - val_loss: 0.0108 - val_mae: 0.1033 - val_mse: 0.0108\n",
      "Epoch 41/100\n",
      "\u001b[1m28/28\u001b[0m \u001b[32m━━━━━━━━━━━━━━━━━━━━\u001b[0m\u001b[37m\u001b[0m \u001b[1m2s\u001b[0m 55ms/step - loss: 0.0174 - mae: 0.1048 - mse: 0.0174 - val_loss: 0.0137 - val_mae: 0.1165 - val_mse: 0.0137\n",
      "Epoch 42/100\n",
      "\u001b[1m28/28\u001b[0m \u001b[32m━━━━━━━━━━━━━━━━━━━━\u001b[0m\u001b[37m\u001b[0m \u001b[1m2s\u001b[0m 55ms/step - loss: 0.0146 - mae: 0.0960 - mse: 0.0146 - val_loss: 0.0123 - val_mae: 0.1103 - val_mse: 0.0123\n",
      "Epoch 43/100\n",
      "\u001b[1m28/28\u001b[0m \u001b[32m━━━━━━━━━━━━━━━━━━━━\u001b[0m\u001b[37m\u001b[0m \u001b[1m2s\u001b[0m 53ms/step - loss: 0.0181 - mae: 0.1062 - mse: 0.0181 - val_loss: 0.0140 - val_mae: 0.1180 - val_mse: 0.0140\n",
      "Epoch 44/100\n",
      "\u001b[1m28/28\u001b[0m \u001b[32m━━━━━━━━━━━━━━━━━━━━\u001b[0m\u001b[37m\u001b[0m \u001b[1m1s\u001b[0m 51ms/step - loss: 0.0149 - mae: 0.0986 - mse: 0.0149 - val_loss: 0.0124 - val_mae: 0.1111 - val_mse: 0.0124\n",
      "Epoch 45/100\n",
      "\u001b[1m28/28\u001b[0m \u001b[32m━━━━━━━━━━━━━━━━━━━━\u001b[0m\u001b[37m\u001b[0m \u001b[1m2s\u001b[0m 54ms/step - loss: 0.0157 - mae: 0.0999 - mse: 0.0157 - val_loss: 0.0131 - val_mae: 0.1143 - val_mse: 0.0131\n",
      "Epoch 46/100\n",
      "\u001b[1m28/28\u001b[0m \u001b[32m━━━━━━━━━━━━━━━━━━━━\u001b[0m\u001b[37m\u001b[0m \u001b[1m2s\u001b[0m 54ms/step - loss: 0.0164 - mae: 0.0995 - mse: 0.0164 - val_loss: 0.0173 - val_mae: 0.1312 - val_mse: 0.0173\n",
      "Epoch 47/100\n",
      "\u001b[1m28/28\u001b[0m \u001b[32m━━━━━━━━━━━━━━━━━━━━\u001b[0m\u001b[37m\u001b[0m \u001b[1m2s\u001b[0m 56ms/step - loss: 0.0139 - mae: 0.0915 - mse: 0.0139 - val_loss: 0.0169 - val_mae: 0.1296 - val_mse: 0.0169\n",
      "Epoch 48/100\n",
      "\u001b[1m28/28\u001b[0m \u001b[32m━━━━━━━━━━━━━━━━━━━━\u001b[0m\u001b[37m\u001b[0m \u001b[1m1s\u001b[0m 53ms/step - loss: 0.0154 - mae: 0.0974 - mse: 0.0154 - val_loss: 0.0155 - val_mae: 0.1241 - val_mse: 0.0155\n",
      "Epoch 49/100\n",
      "\u001b[1m28/28\u001b[0m \u001b[32m━━━━━━━━━━━━━━━━━━━━\u001b[0m\u001b[37m\u001b[0m \u001b[1m1s\u001b[0m 51ms/step - loss: 0.0154 - mae: 0.0986 - mse: 0.0154 - val_loss: 0.0120 - val_mae: 0.1091 - val_mse: 0.0120\n",
      "Epoch 50/100\n",
      "\u001b[1m28/28\u001b[0m \u001b[32m━━━━━━━━━━━━━━━━━━━━\u001b[0m\u001b[37m\u001b[0m \u001b[1m1s\u001b[0m 51ms/step - loss: 0.0144 - mae: 0.0937 - mse: 0.0144 - val_loss: 0.0147 - val_mae: 0.1210 - val_mse: 0.0147\n",
      "Epoch 51/100\n",
      "\u001b[1m28/28\u001b[0m \u001b[32m━━━━━━━━━━━━━━━━━━━━\u001b[0m\u001b[37m\u001b[0m \u001b[1m2s\u001b[0m 58ms/step - loss: 0.0134 - mae: 0.0895 - mse: 0.0134 - val_loss: 0.0052 - val_mae: 0.0715 - val_mse: 0.0052\n",
      "Epoch 52/100\n",
      "\u001b[1m28/28\u001b[0m \u001b[32m━━━━━━━━━━━━━━━━━━━━\u001b[0m\u001b[37m\u001b[0m \u001b[1m2s\u001b[0m 56ms/step - loss: 0.0112 - mae: 0.0833 - mse: 0.0112 - val_loss: 0.0191 - val_mae: 0.1379 - val_mse: 0.0191\n",
      "Epoch 53/100\n",
      "\u001b[1m28/28\u001b[0m \u001b[32m━━━━━━━━━━━━━━━━━━━━\u001b[0m\u001b[37m\u001b[0m \u001b[1m1s\u001b[0m 52ms/step - loss: 0.0100 - mae: 0.0766 - mse: 0.0100 - val_loss: 0.0310 - val_mae: 0.1759 - val_mse: 0.0310\n",
      "Epoch 54/100\n",
      "\u001b[1m28/28\u001b[0m \u001b[32m━━━━━━━━━━━━━━━━━━━━\u001b[0m\u001b[37m\u001b[0m \u001b[1m2s\u001b[0m 53ms/step - loss: 0.0092 - mae: 0.0737 - mse: 0.0092 - val_loss: 0.0223 - val_mae: 0.1489 - val_mse: 0.0223\n",
      "Epoch 55/100\n",
      "\u001b[1m28/28\u001b[0m \u001b[32m━━━━━━━━━━━━━━━━━━━━\u001b[0m\u001b[37m\u001b[0m \u001b[1m2s\u001b[0m 54ms/step - loss: 0.0083 - mae: 0.0704 - mse: 0.0083 - val_loss: 0.0210 - val_mae: 0.1444 - val_mse: 0.0210\n",
      "Epoch 56/100\n",
      "\u001b[1m28/28\u001b[0m \u001b[32m━━━━━━━━━━━━━━━━━━━━\u001b[0m\u001b[37m\u001b[0m \u001b[1m1s\u001b[0m 51ms/step - loss: 0.0087 - mae: 0.0731 - mse: 0.0087 - val_loss: 0.0130 - val_mae: 0.1135 - val_mse: 0.0130\n",
      "Epoch 57/100\n",
      "\u001b[1m28/28\u001b[0m \u001b[32m━━━━━━━━━━━━━━━━━━━━\u001b[0m\u001b[37m\u001b[0m \u001b[1m1s\u001b[0m 51ms/step - loss: 0.0103 - mae: 0.0796 - mse: 0.0103 - val_loss: 0.0187 - val_mae: 0.1363 - val_mse: 0.0187\n",
      "Epoch 58/100\n",
      "\u001b[1m28/28\u001b[0m \u001b[32m━━━━━━━━━━━━━━━━━━━━\u001b[0m\u001b[37m\u001b[0m \u001b[1m2s\u001b[0m 52ms/step - loss: 0.0084 - mae: 0.0716 - mse: 0.0084 - val_loss: 0.0154 - val_mae: 0.1236 - val_mse: 0.0154\n",
      "Epoch 59/100\n",
      "\u001b[1m28/28\u001b[0m \u001b[32m━━━━━━━━━━━━━━━━━━━━\u001b[0m\u001b[37m\u001b[0m \u001b[1m1s\u001b[0m 51ms/step - loss: 0.0068 - mae: 0.0661 - mse: 0.0068 - val_loss: 0.0207 - val_mae: 0.1434 - val_mse: 0.0207\n",
      "Epoch 60/100\n",
      "\u001b[1m28/28\u001b[0m \u001b[32m━━━━━━━━━━━━━━━━━━━━\u001b[0m\u001b[37m\u001b[0m \u001b[1m2s\u001b[0m 53ms/step - loss: 0.0079 - mae: 0.0660 - mse: 0.0079 - val_loss: 0.0120 - val_mae: 0.1088 - val_mse: 0.0120\n",
      "Epoch 61/100\n",
      "\u001b[1m28/28\u001b[0m \u001b[32m━━━━━━━━━━━━━━━━━━━━\u001b[0m\u001b[37m\u001b[0m \u001b[1m2s\u001b[0m 55ms/step - loss: 0.0081 - mae: 0.0705 - mse: 0.0081 - val_loss: 0.0260 - val_mae: 0.1608 - val_mse: 0.0260\n",
      "Epoch 62/100\n",
      "\u001b[1m28/28\u001b[0m \u001b[32m━━━━━━━━━━━━━━━━━━━━\u001b[0m\u001b[37m\u001b[0m \u001b[1m1s\u001b[0m 50ms/step - loss: 0.0067 - mae: 0.0637 - mse: 0.0067 - val_loss: 0.0191 - val_mae: 0.1378 - val_mse: 0.0191\n",
      "Epoch 63/100\n",
      "\u001b[1m28/28\u001b[0m \u001b[32m━━━━━━━━━━━━━━━━━━━━\u001b[0m\u001b[37m\u001b[0m \u001b[1m1s\u001b[0m 53ms/step - loss: 0.0072 - mae: 0.0639 - mse: 0.0072 - val_loss: 0.0175 - val_mae: 0.1317 - val_mse: 0.0175\n",
      "Epoch 64/100\n",
      "\u001b[1m28/28\u001b[0m \u001b[32m━━━━━━━━━━━━━━━━━━━━\u001b[0m\u001b[37m\u001b[0m \u001b[1m1s\u001b[0m 52ms/step - loss: 0.0079 - mae: 0.0706 - mse: 0.0079 - val_loss: 0.0200 - val_mae: 0.1410 - val_mse: 0.0200\n",
      "Epoch 65/100\n",
      "\u001b[1m28/28\u001b[0m \u001b[32m━━━━━━━━━━━━━━━━━━━━\u001b[0m\u001b[37m\u001b[0m \u001b[1m1s\u001b[0m 50ms/step - loss: 0.0076 - mae: 0.0643 - mse: 0.0076 - val_loss: 0.0180 - val_mae: 0.1338 - val_mse: 0.0180\n",
      "Epoch 66/100\n",
      "\u001b[1m28/28\u001b[0m \u001b[32m━━━━━━━━━━━━━━━━━━━━\u001b[0m\u001b[37m\u001b[0m \u001b[1m1s\u001b[0m 50ms/step - loss: 0.0081 - mae: 0.0674 - mse: 0.0081 - val_loss: 0.0259 - val_mae: 0.1607 - val_mse: 0.0259\n",
      "Epoch 67/100\n",
      "\u001b[1m28/28\u001b[0m \u001b[32m━━━━━━━━━━━━━━━━━━━━\u001b[0m\u001b[37m\u001b[0m \u001b[1m2s\u001b[0m 53ms/step - loss: 0.0066 - mae: 0.0615 - mse: 0.0066 - val_loss: 0.0242 - val_mae: 0.1552 - val_mse: 0.0242\n",
      "Epoch 68/100\n",
      "\u001b[1m28/28\u001b[0m \u001b[32m━━━━━━━━━━━━━━━━━━━━\u001b[0m\u001b[37m\u001b[0m \u001b[1m1s\u001b[0m 52ms/step - loss: 0.0077 - mae: 0.0673 - mse: 0.0077 - val_loss: 0.0243 - val_mae: 0.1555 - val_mse: 0.0243\n",
      "Epoch 69/100\n",
      "\u001b[1m28/28\u001b[0m \u001b[32m━━━━━━━━━━━━━━━━━━━━\u001b[0m\u001b[37m\u001b[0m \u001b[1m1s\u001b[0m 51ms/step - loss: 0.0061 - mae: 0.0606 - mse: 0.0061 - val_loss: 0.0260 - val_mae: 0.1608 - val_mse: 0.0260\n",
      "Epoch 70/100\n",
      "\u001b[1m28/28\u001b[0m \u001b[32m━━━━━━━━━━━━━━━━━━━━\u001b[0m\u001b[37m\u001b[0m \u001b[1m2s\u001b[0m 55ms/step - loss: 0.0058 - mae: 0.0571 - mse: 0.0058 - val_loss: 0.0250 - val_mae: 0.1577 - val_mse: 0.0250\n",
      "Epoch 71/100\n",
      "\u001b[1m28/28\u001b[0m \u001b[32m━━━━━━━━━━━━━━━━━━━━\u001b[0m\u001b[37m\u001b[0m \u001b[1m1s\u001b[0m 49ms/step - loss: 0.0067 - mae: 0.0619 - mse: 0.0067 - val_loss: 0.0247 - val_mae: 0.1570 - val_mse: 0.0247\n",
      "Epoch 72/100\n",
      "\u001b[1m28/28\u001b[0m \u001b[32m━━━━━━━━━━━━━━━━━━━━\u001b[0m\u001b[37m\u001b[0m \u001b[1m2s\u001b[0m 54ms/step - loss: 0.0051 - mae: 0.0534 - mse: 0.0051 - val_loss: 0.0236 - val_mae: 0.1533 - val_mse: 0.0236\n",
      "Epoch 73/100\n",
      "\u001b[1m28/28\u001b[0m \u001b[32m━━━━━━━━━━━━━━━━━━━━\u001b[0m\u001b[37m\u001b[0m \u001b[1m2s\u001b[0m 53ms/step - loss: 0.0060 - mae: 0.0595 - mse: 0.0060 - val_loss: 0.0259 - val_mae: 0.1607 - val_mse: 0.0259\n",
      "Epoch 74/100\n",
      "\u001b[1m28/28\u001b[0m \u001b[32m━━━━━━━━━━━━━━━━━━━━\u001b[0m\u001b[37m\u001b[0m \u001b[1m1s\u001b[0m 51ms/step - loss: 0.0056 - mae: 0.0547 - mse: 0.0056 - val_loss: 0.0183 - val_mae: 0.1351 - val_mse: 0.0183\n",
      "Epoch 75/100\n",
      "\u001b[1m28/28\u001b[0m \u001b[32m━━━━━━━━━━━━━━━━━━━━\u001b[0m\u001b[37m\u001b[0m \u001b[1m1s\u001b[0m 51ms/step - loss: 0.0058 - mae: 0.0572 - mse: 0.0058 - val_loss: 0.0170 - val_mae: 0.1299 - val_mse: 0.0170\n",
      "Epoch 76/100\n",
      "\u001b[1m28/28\u001b[0m \u001b[32m━━━━━━━━━━━━━━━━━━━━\u001b[0m\u001b[37m\u001b[0m \u001b[1m1s\u001b[0m 51ms/step - loss: 0.0053 - mae: 0.0554 - mse: 0.0053 - val_loss: 0.0246 - val_mae: 0.1565 - val_mse: 0.0246\n",
      "Epoch 77/100\n",
      "\u001b[1m28/28\u001b[0m \u001b[32m━━━━━━━━━━━━━━━━━━━━\u001b[0m\u001b[37m\u001b[0m \u001b[1m1s\u001b[0m 52ms/step - loss: 0.0055 - mae: 0.0538 - mse: 0.0055 - val_loss: 0.0257 - val_mae: 0.1599 - val_mse: 0.0257\n",
      "Epoch 78/100\n",
      "\u001b[1m28/28\u001b[0m \u001b[32m━━━━━━━━━━━━━━━━━━━━\u001b[0m\u001b[37m\u001b[0m \u001b[1m1s\u001b[0m 51ms/step - loss: 0.0059 - mae: 0.0554 - mse: 0.0059 - val_loss: 0.0223 - val_mae: 0.1491 - val_mse: 0.0223\n",
      "Epoch 79/100\n",
      "\u001b[1m28/28\u001b[0m \u001b[32m━━━━━━━━━━━━━━━━━━━━\u001b[0m\u001b[37m\u001b[0m \u001b[1m1s\u001b[0m 51ms/step - loss: 0.0047 - mae: 0.0513 - mse: 0.0047 - val_loss: 0.0274 - val_mae: 0.1652 - val_mse: 0.0274\n",
      "Epoch 80/100\n",
      "\u001b[1m28/28\u001b[0m \u001b[32m━━━━━━━━━━━━━━━━━━━━\u001b[0m\u001b[37m\u001b[0m \u001b[1m1s\u001b[0m 51ms/step - loss: 0.0058 - mae: 0.0581 - mse: 0.0058 - val_loss: 0.0232 - val_mae: 0.1521 - val_mse: 0.0232\n",
      "Epoch 81/100\n",
      "\u001b[1m28/28\u001b[0m \u001b[32m━━━━━━━━━━━━━━━━━━━━\u001b[0m\u001b[37m\u001b[0m \u001b[1m1s\u001b[0m 50ms/step - loss: 0.0044 - mae: 0.0501 - mse: 0.0044 - val_loss: 0.0235 - val_mae: 0.1531 - val_mse: 0.0235\n",
      "Epoch 82/100\n",
      "\u001b[1m28/28\u001b[0m \u001b[32m━━━━━━━━━━━━━━━━━━━━\u001b[0m\u001b[37m\u001b[0m \u001b[1m2s\u001b[0m 52ms/step - loss: 0.0042 - mae: 0.0493 - mse: 0.0042 - val_loss: 0.0272 - val_mae: 0.1646 - val_mse: 0.0272\n",
      "Epoch 83/100\n",
      "\u001b[1m28/28\u001b[0m \u001b[32m━━━━━━━━━━━━━━━━━━━━\u001b[0m\u001b[37m\u001b[0m \u001b[1m1s\u001b[0m 51ms/step - loss: 0.0047 - mae: 0.0493 - mse: 0.0047 - val_loss: 0.0144 - val_mae: 0.1198 - val_mse: 0.0144\n",
      "Epoch 84/100\n",
      "\u001b[1m28/28\u001b[0m \u001b[32m━━━━━━━━━━━━━━━━━━━━\u001b[0m\u001b[37m\u001b[0m \u001b[1m1s\u001b[0m 52ms/step - loss: 0.0040 - mae: 0.0464 - mse: 0.0040 - val_loss: 0.0219 - val_mae: 0.1476 - val_mse: 0.0219\n",
      "Epoch 85/100\n",
      "\u001b[1m28/28\u001b[0m \u001b[32m━━━━━━━━━━━━━━━━━━━━\u001b[0m\u001b[37m\u001b[0m \u001b[1m1s\u001b[0m 51ms/step - loss: 0.0042 - mae: 0.0465 - mse: 0.0042 - val_loss: 0.0190 - val_mae: 0.1376 - val_mse: 0.0190\n",
      "Epoch 86/100\n",
      "\u001b[1m28/28\u001b[0m \u001b[32m━━━━━━━━━━━━━━━━━━━━\u001b[0m\u001b[37m\u001b[0m \u001b[1m1s\u001b[0m 52ms/step - loss: 0.0042 - mae: 0.0471 - mse: 0.0042 - val_loss: 0.0205 - val_mae: 0.1428 - val_mse: 0.0205\n",
      "Epoch 87/100\n",
      "\u001b[1m28/28\u001b[0m \u001b[32m━━━━━━━━━━━━━━━━━━━━\u001b[0m\u001b[37m\u001b[0m \u001b[1m1s\u001b[0m 51ms/step - loss: 0.0046 - mae: 0.0461 - mse: 0.0046 - val_loss: 0.0232 - val_mae: 0.1520 - val_mse: 0.0232\n",
      "Epoch 88/100\n",
      "\u001b[1m28/28\u001b[0m \u001b[32m━━━━━━━━━━━━━━━━━━━━\u001b[0m\u001b[37m\u001b[0m \u001b[1m1s\u001b[0m 50ms/step - loss: 0.0034 - mae: 0.0428 - mse: 0.0034 - val_loss: 0.0189 - val_mae: 0.1372 - val_mse: 0.0189\n",
      "Epoch 89/100\n",
      "\u001b[1m28/28\u001b[0m \u001b[32m━━━━━━━━━━━━━━━━━━━━\u001b[0m\u001b[37m\u001b[0m \u001b[1m1s\u001b[0m 52ms/step - loss: 0.0036 - mae: 0.0450 - mse: 0.0036 - val_loss: 0.0155 - val_mae: 0.1241 - val_mse: 0.0155\n",
      "Epoch 90/100\n",
      "\u001b[1m28/28\u001b[0m \u001b[32m━━━━━━━━━━━━━━━━━━━━\u001b[0m\u001b[37m\u001b[0m \u001b[1m1s\u001b[0m 50ms/step - loss: 0.0040 - mae: 0.0469 - mse: 0.0040 - val_loss: 0.0173 - val_mae: 0.1312 - val_mse: 0.0173\n",
      "Epoch 91/100\n",
      "\u001b[1m28/28\u001b[0m \u001b[32m━━━━━━━━━━━━━━━━━━━━\u001b[0m\u001b[37m\u001b[0m \u001b[1m1s\u001b[0m 50ms/step - loss: 0.0036 - mae: 0.0436 - mse: 0.0036 - val_loss: 0.0219 - val_mae: 0.1476 - val_mse: 0.0219\n",
      "Epoch 92/100\n",
      "\u001b[1m28/28\u001b[0m \u001b[32m━━━━━━━━━━━━━━━━━━━━\u001b[0m\u001b[37m\u001b[0m \u001b[1m1s\u001b[0m 49ms/step - loss: 0.0032 - mae: 0.0397 - mse: 0.0032 - val_loss: 0.0212 - val_mae: 0.1452 - val_mse: 0.0212\n",
      "Epoch 93/100\n",
      "\u001b[1m28/28\u001b[0m \u001b[32m━━━━━━━━━━━━━━━━━━━━\u001b[0m\u001b[37m\u001b[0m \u001b[1m1s\u001b[0m 50ms/step - loss: 0.0039 - mae: 0.0427 - mse: 0.0039 - val_loss: 0.0215 - val_mae: 0.1462 - val_mse: 0.0215\n",
      "Epoch 94/100\n",
      "\u001b[1m28/28\u001b[0m \u001b[32m━━━━━━━━━━━━━━━━━━━━\u001b[0m\u001b[37m\u001b[0m \u001b[1m1s\u001b[0m 52ms/step - loss: 0.0031 - mae: 0.0397 - mse: 0.0031 - val_loss: 0.0145 - val_mae: 0.1200 - val_mse: 0.0145\n",
      "Epoch 95/100\n",
      "\u001b[1m28/28\u001b[0m \u001b[32m━━━━━━━━━━━━━━━━━━━━\u001b[0m\u001b[37m\u001b[0m \u001b[1m1s\u001b[0m 50ms/step - loss: 0.0043 - mae: 0.0443 - mse: 0.0043 - val_loss: 0.0163 - val_mae: 0.1272 - val_mse: 0.0163\n",
      "Epoch 96/100\n",
      "\u001b[1m28/28\u001b[0m \u001b[32m━━━━━━━━━━━━━━━━━━━━\u001b[0m\u001b[37m\u001b[0m \u001b[1m2s\u001b[0m 53ms/step - loss: 0.0031 - mae: 0.0406 - mse: 0.0031 - val_loss: 0.0230 - val_mae: 0.1515 - val_mse: 0.0230\n",
      "Epoch 97/100\n",
      "\u001b[1m28/28\u001b[0m \u001b[32m━━━━━━━━━━━━━━━━━━━━\u001b[0m\u001b[37m\u001b[0m \u001b[1m1s\u001b[0m 53ms/step - loss: 0.0028 - mae: 0.0385 - mse: 0.0028 - val_loss: 0.0219 - val_mae: 0.1476 - val_mse: 0.0219\n",
      "Epoch 98/100\n",
      "\u001b[1m28/28\u001b[0m \u001b[32m━━━━━━━━━━━━━━━━━━━━\u001b[0m\u001b[37m\u001b[0m \u001b[1m1s\u001b[0m 50ms/step - loss: 0.0032 - mae: 0.0387 - mse: 0.0032 - val_loss: 0.0181 - val_mae: 0.1343 - val_mse: 0.0181\n",
      "Epoch 99/100\n",
      "\u001b[1m28/28\u001b[0m \u001b[32m━━━━━━━━━━━━━━━━━━━━\u001b[0m\u001b[37m\u001b[0m \u001b[1m1s\u001b[0m 46ms/step - loss: 0.0029 - mae: 0.0381 - mse: 0.0029 - val_loss: 0.0197 - val_mae: 0.1403 - val_mse: 0.0197\n",
      "Epoch 100/100\n",
      "\u001b[1m28/28\u001b[0m \u001b[32m━━━━━━━━━━━━━━━━━━━━\u001b[0m\u001b[37m\u001b[0m \u001b[1m1s\u001b[0m 49ms/step - loss: 0.0032 - mae: 0.0399 - mse: 0.0032 - val_loss: 0.0192 - val_mae: 0.1382 - val_mse: 0.0192\n"
     ]
    }
   ],
   "source": [
    "# Build modelt\n",
    "\n",
    "lstm_model = Sequential()\n",
    "lstm_model.add(LSTM(units=64, return_sequences=True, input_shape=(X_train_seq.shape[1], X_train_seq.shape[2])))\n",
    "lstm_model.add(Dropout(0.4))\n",
    "lstm_model.add(LSTM(units=32, return_sequences=True))\n",
    "lstm_model.add(Dropout(0.4))\n",
    "lstm_model.add(LSTM(units=16, return_sequences=False))\n",
    "lstm_model.add(Dropout(0.4))\n",
    "lstm_model.add(Dense(units=8, activation='relu'))\n",
    "lstm_model.add(Dense(units=4, activation='relu'))\n",
    "\n",
    "# Output layer\n",
    "lstm_model.add(Dense(units=1))\n",
    "\n",
    "lstm_model.compile(optimizer='adam', loss='mean_squared_error', metrics=['mae', 'mse'])\n",
    "\n",
    "history = lstm_model.fit(X_train_seq, y_train_seq, epochs=100, batch_size=32, validation_data=(X_val_seq, y_val_seq))"
   ]
  },
  {
   "cell_type": "code",
   "execution_count": 112,
   "metadata": {},
   "outputs": [
    {
     "name": "stdout",
     "output_type": "stream",
     "text": [
      "\u001b[1m3/3\u001b[0m \u001b[32m━━━━━━━━━━━━━━━━━━━━\u001b[0m\u001b[37m\u001b[0m \u001b[1m0s\u001b[0m 25ms/step - loss: 0.0167 - mae: 0.1287 - mse: 0.0167\n",
      "Test Loss (LSTM): [0.016556065529584885, 0.12816877663135529, 0.016556065529584885]\n",
      "\u001b[1m3/3\u001b[0m \u001b[32m━━━━━━━━━━━━━━━━━━━━\u001b[0m\u001b[37m\u001b[0m \u001b[1m1s\u001b[0m 167ms/step\n"
     ]
    }
   ],
   "source": [
    "test_loss = lstm_model.evaluate(X_test_seq, y_test_seq)\n",
    "print(f\"Test Loss (LSTM): {test_loss}\")\n",
    "\n",
    "y_pred = lstm_model.predict(X_test_seq)\n",
    "\n",
    "y_pred = scaler.inverse_transform(np.column_stack((y_pred, np.zeros(y_pred.shape))))[:, 0]\n",
    "y_test_actual = scaler.inverse_transform(np.column_stack((y_test_seq.reshape(-1, 1), np.zeros(y_test_seq.shape))))[:, 0]\n"
   ]
  },
  {
   "cell_type": "code",
   "execution_count": 113,
   "metadata": {},
   "outputs": [
    {
     "name": "stdout",
     "output_type": "stream",
     "text": [
      "LSTM Model Performance on Test Data:\n",
      "Mean Absolute Error (MAE): 0.0452\n",
      "Mean Squared Error (MSE): 0.0021\n",
      "R² Score: -37.4394\n",
      "Mean Absolute Percentage Error (MAPE): 2.98%\n"
     ]
    }
   ],
   "source": [
    "mae_lstm = mean_absolute_error(y_test_actual, y_pred)\n",
    "mse_lstm = mean_squared_error(y_test_actual, y_pred)\n",
    "r2_lstm = r2_score(y_test_actual, y_pred)\n",
    "mape_lstm = np.mean(np.abs((y_test_actual - y_pred) / y_test_actual)) * 100 \n",
    "\n",
    "print(f\"LSTM Model Performance on Test Data:\")\n",
    "print(f\"Mean Absolute Error (MAE): {mae_lstm:.4f}\")\n",
    "print(f\"Mean Squared Error (MSE): {mse_lstm:.4f}\")\n",
    "print(f\"R² Score: {r2_lstm:.4f}\")\n",
    "print(f\"Mean Absolute Percentage Error (MAPE): {mape_lstm:.2f}%\")\n"
   ]
  },
  {
   "cell_type": "code",
   "execution_count": 114,
   "metadata": {},
   "outputs": [
    {
     "data": {
      "image/png": "[encoded data removed]",
      "text/plain": [
       "<Figure size 1200x400 with 3 Axes>"
      ]
     },
     "metadata": {},
     "output_type": "display_data"
    }
   ],
   "source": [
    "history_dict = history.history\n",
    "\n",
    "plt.figure(figsize=(12, 4))\n",
    "\n",
    "plt.subplot(1, 3, 1)\n",
    "plt.plot(history_dict['loss'], label='Training Loss')\n",
    "plt.plot(history_dict['val_loss'], label='Validation Loss')\n",
    "plt.xlabel('Epochs')\n",
    "plt.ylabel('Loss (MSE)')\n",
    "plt.title('Training and Validation Loss')\n",
    "plt.legend()\n",
    "plt.grid(True)\n",
    "\n",
    "# MAE Plot\n",
    "plt.subplot(1, 3, 2)\n",
    "plt.plot(history_dict['mae'], label='Training MAE')\n",
    "plt.plot(history_dict['val_mae'], label='Validation MAE')\n",
    "plt.xlabel('Epochs')\n",
    "plt.ylabel('Mean Absolute Error (MAE)')\n",
    "plt.title('Training and Validation MAE')\n",
    "plt.legend()\n",
    "plt.grid(True)\n",
    "\n",
    "# MSE Plot\n",
    "plt.subplot(1, 3, 3)\n",
    "plt.plot(history_dict['mse'], label='Training MSE')\n",
    "plt.plot(history_dict['val_mse'], label='Validation MSE')\n",
    "plt.xlabel('Epochs')\n",
    "plt.ylabel('Mean Squared Error (MSE)')\n",
    "plt.title('Training and Validation MSE')\n",
    "plt.legend()\n",
    "plt.grid(True)\n",
    "\n",
    "plt.tight_layout()\n",
    "plt.show()"
   ]
  },
  {
   "cell_type": "code",
   "execution_count": 115,
   "metadata": {},
   "outputs": [
    {
     "name": "stdout",
     "output_type": "stream",
     "text": [
      "CNN Model Performance on Test Data:\n",
      "Mean Absolute Error (MAE): 0.0452\n",
      "Mean Squared Error (MSE): 0.0021\n",
      "R² Score: -37.4394\n",
      "Mean Absolute Percentage Error (MAPE): 2.98%\n",
      "Mean Directional Accuracy (MDA): 47.22%\n"
     ]
    }
   ],
   "source": [
    "def mean_directional_accuracy(actual, predicted):\n",
    "    return np.mean((np.sign(np.diff(actual)) == np.sign(np.diff(predicted))).astype(int)) * 100\n",
    "\n",
    "mda_lstm = mean_directional_accuracy(y_test_actual, y_pred)\n",
    "\n",
    "print(f\"CNN Model Performance on Test Data:\")\n",
    "print(f\"Mean Absolute Error (MAE): {mae_lstm:.4f}\")\n",
    "print(f\"Mean Squared Error (MSE): {mse_lstm:.4f}\")\n",
    "print(f\"R² Score: {r2_lstm:.4f}\")\n",
    "print(f\"Mean Absolute Percentage Error (MAPE): {mape_lstm:.2f}%\")\n",
    "print(f\"Mean Directional Accuracy (MDA): {mda_lstm:.2f}%\")\n"
   ]
  }
 ],
 "metadata": {
  "kernelspec": {
   "display_name": "Python 3",
   "language": "python",
   "name": "python3"
  },
  "language_info": {
   "codemirror_mode": {
    "name": "ipython",
    "version": 3
   },
   "file_extension": ".py",
   "mimetype": "text/x-python",
   "name": "python",
   "nbconvert_exporter": "python",
   "pygments_lexer": "ipython3",
   "version": "3.9.9"
  }
 },
 "nbformat": 4,
 "nbformat_minor": 2
}
